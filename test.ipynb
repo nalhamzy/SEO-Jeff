{
 "cells": [
  {
   "cell_type": "code",
   "execution_count": 33,
   "metadata": {},
   "outputs": [],
   "source": [
    "from pandas.core.frame import DataFrame\n",
    "from serpapi import GoogleSearch\n",
    "\n",
    "import pandas as pd\n",
    "from requests import get\n",
    "# import nltk\n",
    "# nltk.download('punkt')\n",
    "# nltk.download('stopwords')\n",
    "from pprint import pprint\n",
    "from requests import session\n",
    "import textrazor\n",
    "import pandas as pd\n",
    "import streamlit as st\n",
    "textrazor.api_key = \"cbf491222196a84d4bbcf85f575a75ea323c329bb97a2bb280404dac\"\n",
    "\n",
    "import pandas as pd\n",
    "import numpy as np\n",
    "from requests import get\n",
    "import re \n",
    "# nltk.download('punkt')\n",
    "# nltk.download('stopwords')\n",
    "from pprint import pprint\n",
    "from requests import session\n",
    "import textrazor\n",
    "import pandas as pd\n",
    "import numpy as np\n",
    "google_app_secret = 'e478f284e8aa736bc21fd8691ae7d08f14680d2e6a1fac7a8d6ad1f51e1b358f'\n",
    "textrazor.api_key = \"cbf491222196a84d4bbcf85f575a75ea323c329bb97a2bb280404dac\"\n",
    "\n",
    "client = textrazor.TextRazor(extractors=[\"words\",\"phrases\",\"entities\"])\n",
    "# client.set_cleanup_mode(cleanup_mode='cleanHTML')\n",
    "# client.set_cleanup_return_cleaned(True)\n"
   ]
  },
  {
   "cell_type": "code",
   "execution_count": 18,
   "metadata": {},
   "outputs": [],
   "source": [
    "api_key = \"cbf491222196a84d4bbcf85f575a75ea323c329bb97a2bb280404dac\"\n"
   ]
  },
  {
   "cell_type": "code",
   "execution_count": 41,
   "metadata": {},
   "outputs": [
    {
     "name": "stdout",
     "output_type": "stream",
     "text": [
      "[TextRazor Entity b'1' at positions [1], TextRazor Entity b'2' at positions [3], TextRazor Entity b'San Francisco' at positions [4, 5], TextRazor Entity b'San Francisco Bay Area' at positions [4, 5, 6, 7], TextRazor Entity b'Bay Area Rapid Transit' at positions [6, 7, 8, 9], TextRazor Entity b'Rapid transit' at positions [8, 9], TextRazor Entity b'San Francisco Bay' at positions [4, 5, 6]]\n",
      "San Francisco\n",
      "San Francisco Bay Area\n",
      "Bay Area Rapid Transit\n",
      "Rapid transit\n",
      "San Francisco Bay\n"
     ]
    }
   ],
   "source": [
    "response = client.analyze(\" Page 1 of 2 SAN FRANCISCO BAY AREA RAPID TRANSIT ...\")\n",
    "print(response.entities())\n",
    "for entity in response.entities():\n",
    "                \n",
    "                if len(entity.freebase_types) > 0:\n",
    "                        print(entity.id)\n"
   ]
  },
  {
   "cell_type": "code",
   "execution_count": 32,
   "metadata": {},
   "outputs": [
    {
     "data": {
      "text/plain": [
       "{'response': {'sentences': [{'position': 0,\n",
       "    'words': [{'position': 0,\n",
       "      'startingPos': 0,\n",
       "      'endingPos': 1,\n",
       "      'stem': 'i',\n",
       "      'lemma': 'i',\n",
       "      'token': 'I',\n",
       "      'partOfSpeech': 'PRP'},\n",
       "     {'position': 1,\n",
       "      'startingPos': 2,\n",
       "      'endingPos': 6,\n",
       "      'stem': 'love',\n",
       "      'lemma': 'love',\n",
       "      'token': 'love',\n",
       "      'partOfSpeech': 'VBP'},\n",
       "     {'position': 2,\n",
       "      'startingPos': 7,\n",
       "      'endingPos': 13,\n",
       "      'stem': 'appl',\n",
       "      'lemma': 'apple',\n",
       "      'token': 'apples',\n",
       "      'partOfSpeech': 'NNS'},\n",
       "     {'position': 3,\n",
       "      'startingPos': 14,\n",
       "      'endingPos': 17,\n",
       "      'stem': 'and',\n",
       "      'lemma': 'and',\n",
       "      'token': 'and',\n",
       "      'partOfSpeech': 'CC'},\n",
       "     {'position': 4,\n",
       "      'startingPos': 18,\n",
       "      'endingPos': 25,\n",
       "      'stem': 'orang',\n",
       "      'lemma': 'orange',\n",
       "      'token': 'oranges',\n",
       "      'partOfSpeech': 'NNS'},\n",
       "     {'position': 5,\n",
       "      'startingPos': 25,\n",
       "      'endingPos': 25,\n",
       "      'stem': '.',\n",
       "      'lemma': '.',\n",
       "      'token': '.',\n",
       "      'partOfSpeech': '.'}]}],\n",
       "  'language': 'eng',\n",
       "  'languageIsReliable': True,\n",
       "  'nounPhrases': [{'id': 0, 'wordPositions': [0]},\n",
       "   {'id': 1, 'wordPositions': [2, 3, 4]}]},\n",
       " 'time': 0.001214,\n",
       " 'ok': True}"
      ]
     },
     "execution_count": 32,
     "metadata": {},
     "output_type": "execute_result"
    }
   ],
   "source": [
    "response.json"
   ]
  }
 ],
 "metadata": {
  "kernelspec": {
   "display_name": "venv",
   "language": "python",
   "name": "python3"
  },
  "language_info": {
   "codemirror_mode": {
    "name": "ipython",
    "version": 3
   },
   "file_extension": ".py",
   "mimetype": "text/x-python",
   "name": "python",
   "nbconvert_exporter": "python",
   "pygments_lexer": "ipython3",
   "version": "3.9.5"
  },
  "orig_nbformat": 4
 },
 "nbformat": 4,
 "nbformat_minor": 2
}
